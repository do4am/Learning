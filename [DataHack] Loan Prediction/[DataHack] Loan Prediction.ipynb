{
 "cells": [
  {
   "cell_type": "code",
   "execution_count": 1,
   "metadata": {},
   "outputs": [],
   "source": [
    "#!bin/usr/python3\n",
    "PATH = 'F:/WorkSpaces/Learning/[DataHack] Loan Prediction/Data/'\n",
    "TRAIN_DATA = PATH + 'train_ctrUa4K.csv'"
   ]
  },
  {
   "cell_type": "code",
   "execution_count": 2,
   "metadata": {},
   "outputs": [],
   "source": [
    "import numpy as np\n",
    "import pandas as pd\n",
    "import tensorflow as tf\n",
    "%matplotlib inline\n",
    "import matplotlib.pyplot as plt\n",
    "import seaborn as sns\n",
    "import scipy.stats as st"
   ]
  },
  {
   "cell_type": "code",
   "execution_count": 3,
   "metadata": {},
   "outputs": [
    {
     "data": {
      "text/html": [
       "<div>\n",
       "<style scoped>\n",
       "    .dataframe tbody tr th:only-of-type {\n",
       "        vertical-align: middle;\n",
       "    }\n",
       "\n",
       "    .dataframe tbody tr th {\n",
       "        vertical-align: top;\n",
       "    }\n",
       "\n",
       "    .dataframe thead th {\n",
       "        text-align: right;\n",
       "    }\n",
       "</style>\n",
       "<table border=\"1\" class=\"dataframe\">\n",
       "  <thead>\n",
       "    <tr style=\"text-align: right;\">\n",
       "      <th></th>\n",
       "      <th>Loan_ID</th>\n",
       "      <th>Gender</th>\n",
       "      <th>Married</th>\n",
       "      <th>Dependents</th>\n",
       "      <th>Education</th>\n",
       "      <th>Self_Employed</th>\n",
       "      <th>ApplicantIncome</th>\n",
       "      <th>CoapplicantIncome</th>\n",
       "      <th>LoanAmount</th>\n",
       "      <th>Loan_Amount_Term</th>\n",
       "      <th>Credit_History</th>\n",
       "      <th>Property_Area</th>\n",
       "      <th>Loan_Status</th>\n",
       "    </tr>\n",
       "  </thead>\n",
       "  <tbody>\n",
       "    <tr>\n",
       "      <th>0</th>\n",
       "      <td>LP001002</td>\n",
       "      <td>Male</td>\n",
       "      <td>No</td>\n",
       "      <td>0</td>\n",
       "      <td>Graduate</td>\n",
       "      <td>No</td>\n",
       "      <td>5849</td>\n",
       "      <td>0.0</td>\n",
       "      <td>NaN</td>\n",
       "      <td>360.0</td>\n",
       "      <td>1.0</td>\n",
       "      <td>Urban</td>\n",
       "      <td>Y</td>\n",
       "    </tr>\n",
       "    <tr>\n",
       "      <th>1</th>\n",
       "      <td>LP001003</td>\n",
       "      <td>Male</td>\n",
       "      <td>Yes</td>\n",
       "      <td>1</td>\n",
       "      <td>Graduate</td>\n",
       "      <td>No</td>\n",
       "      <td>4583</td>\n",
       "      <td>1508.0</td>\n",
       "      <td>128.0</td>\n",
       "      <td>360.0</td>\n",
       "      <td>1.0</td>\n",
       "      <td>Rural</td>\n",
       "      <td>N</td>\n",
       "    </tr>\n",
       "    <tr>\n",
       "      <th>2</th>\n",
       "      <td>LP001005</td>\n",
       "      <td>Male</td>\n",
       "      <td>Yes</td>\n",
       "      <td>0</td>\n",
       "      <td>Graduate</td>\n",
       "      <td>Yes</td>\n",
       "      <td>3000</td>\n",
       "      <td>0.0</td>\n",
       "      <td>66.0</td>\n",
       "      <td>360.0</td>\n",
       "      <td>1.0</td>\n",
       "      <td>Urban</td>\n",
       "      <td>Y</td>\n",
       "    </tr>\n",
       "    <tr>\n",
       "      <th>3</th>\n",
       "      <td>LP001006</td>\n",
       "      <td>Male</td>\n",
       "      <td>Yes</td>\n",
       "      <td>0</td>\n",
       "      <td>Not Graduate</td>\n",
       "      <td>No</td>\n",
       "      <td>2583</td>\n",
       "      <td>2358.0</td>\n",
       "      <td>120.0</td>\n",
       "      <td>360.0</td>\n",
       "      <td>1.0</td>\n",
       "      <td>Urban</td>\n",
       "      <td>Y</td>\n",
       "    </tr>\n",
       "    <tr>\n",
       "      <th>4</th>\n",
       "      <td>LP001008</td>\n",
       "      <td>Male</td>\n",
       "      <td>No</td>\n",
       "      <td>0</td>\n",
       "      <td>Graduate</td>\n",
       "      <td>No</td>\n",
       "      <td>6000</td>\n",
       "      <td>0.0</td>\n",
       "      <td>141.0</td>\n",
       "      <td>360.0</td>\n",
       "      <td>1.0</td>\n",
       "      <td>Urban</td>\n",
       "      <td>Y</td>\n",
       "    </tr>\n",
       "  </tbody>\n",
       "</table>\n",
       "</div>"
      ],
      "text/plain": [
       "    Loan_ID Gender Married Dependents     Education Self_Employed  \\\n",
       "0  LP001002   Male      No          0      Graduate            No   \n",
       "1  LP001003   Male     Yes          1      Graduate            No   \n",
       "2  LP001005   Male     Yes          0      Graduate           Yes   \n",
       "3  LP001006   Male     Yes          0  Not Graduate            No   \n",
       "4  LP001008   Male      No          0      Graduate            No   \n",
       "\n",
       "   ApplicantIncome  CoapplicantIncome  LoanAmount  Loan_Amount_Term  \\\n",
       "0             5849                0.0         NaN             360.0   \n",
       "1             4583             1508.0       128.0             360.0   \n",
       "2             3000                0.0        66.0             360.0   \n",
       "3             2583             2358.0       120.0             360.0   \n",
       "4             6000                0.0       141.0             360.0   \n",
       "\n",
       "   Credit_History Property_Area Loan_Status  \n",
       "0             1.0         Urban           Y  \n",
       "1             1.0         Rural           N  \n",
       "2             1.0         Urban           Y  \n",
       "3             1.0         Urban           Y  \n",
       "4             1.0         Urban           Y  "
      ]
     },
     "execution_count": 3,
     "metadata": {},
     "output_type": "execute_result"
    }
   ],
   "source": [
    "# load train data\n",
    "df = pd.read_csv(TRAIN_DATA)\n",
    "df.head()"
   ]
  },
  {
   "cell_type": "code",
   "execution_count": 4,
   "metadata": {},
   "outputs": [
    {
     "data": {
      "text/plain": [
       "(614, 13)"
      ]
     },
     "execution_count": 4,
     "metadata": {},
     "output_type": "execute_result"
    }
   ],
   "source": [
    "# total data\n",
    "df.shape"
   ]
  },
  {
   "cell_type": "code",
   "execution_count": 5,
   "metadata": {},
   "outputs": [
    {
     "data": {
      "text/html": [
       "<div>\n",
       "<style scoped>\n",
       "    .dataframe tbody tr th:only-of-type {\n",
       "        vertical-align: middle;\n",
       "    }\n",
       "\n",
       "    .dataframe tbody tr th {\n",
       "        vertical-align: top;\n",
       "    }\n",
       "\n",
       "    .dataframe thead th {\n",
       "        text-align: right;\n",
       "    }\n",
       "</style>\n",
       "<table border=\"1\" class=\"dataframe\">\n",
       "  <thead>\n",
       "    <tr style=\"text-align: right;\">\n",
       "      <th></th>\n",
       "      <th>ApplicantIncome</th>\n",
       "      <th>CoapplicantIncome</th>\n",
       "      <th>LoanAmount</th>\n",
       "      <th>Loan_Amount_Term</th>\n",
       "      <th>Credit_History</th>\n",
       "    </tr>\n",
       "  </thead>\n",
       "  <tbody>\n",
       "    <tr>\n",
       "      <th>count</th>\n",
       "      <td>614.000000</td>\n",
       "      <td>614.000000</td>\n",
       "      <td>592.000000</td>\n",
       "      <td>600.00000</td>\n",
       "      <td>564.000000</td>\n",
       "    </tr>\n",
       "    <tr>\n",
       "      <th>mean</th>\n",
       "      <td>5403.459283</td>\n",
       "      <td>1621.245798</td>\n",
       "      <td>146.412162</td>\n",
       "      <td>342.00000</td>\n",
       "      <td>0.842199</td>\n",
       "    </tr>\n",
       "    <tr>\n",
       "      <th>std</th>\n",
       "      <td>6109.041673</td>\n",
       "      <td>2926.248369</td>\n",
       "      <td>85.587325</td>\n",
       "      <td>65.12041</td>\n",
       "      <td>0.364878</td>\n",
       "    </tr>\n",
       "    <tr>\n",
       "      <th>min</th>\n",
       "      <td>150.000000</td>\n",
       "      <td>0.000000</td>\n",
       "      <td>9.000000</td>\n",
       "      <td>12.00000</td>\n",
       "      <td>0.000000</td>\n",
       "    </tr>\n",
       "    <tr>\n",
       "      <th>25%</th>\n",
       "      <td>2877.500000</td>\n",
       "      <td>0.000000</td>\n",
       "      <td>100.000000</td>\n",
       "      <td>360.00000</td>\n",
       "      <td>1.000000</td>\n",
       "    </tr>\n",
       "    <tr>\n",
       "      <th>50%</th>\n",
       "      <td>3812.500000</td>\n",
       "      <td>1188.500000</td>\n",
       "      <td>128.000000</td>\n",
       "      <td>360.00000</td>\n",
       "      <td>1.000000</td>\n",
       "    </tr>\n",
       "    <tr>\n",
       "      <th>75%</th>\n",
       "      <td>5795.000000</td>\n",
       "      <td>2297.250000</td>\n",
       "      <td>168.000000</td>\n",
       "      <td>360.00000</td>\n",
       "      <td>1.000000</td>\n",
       "    </tr>\n",
       "    <tr>\n",
       "      <th>max</th>\n",
       "      <td>81000.000000</td>\n",
       "      <td>41667.000000</td>\n",
       "      <td>700.000000</td>\n",
       "      <td>480.00000</td>\n",
       "      <td>1.000000</td>\n",
       "    </tr>\n",
       "  </tbody>\n",
       "</table>\n",
       "</div>"
      ],
      "text/plain": [
       "       ApplicantIncome  CoapplicantIncome  LoanAmount  Loan_Amount_Term  \\\n",
       "count       614.000000         614.000000  592.000000         600.00000   \n",
       "mean       5403.459283        1621.245798  146.412162         342.00000   \n",
       "std        6109.041673        2926.248369   85.587325          65.12041   \n",
       "min         150.000000           0.000000    9.000000          12.00000   \n",
       "25%        2877.500000           0.000000  100.000000         360.00000   \n",
       "50%        3812.500000        1188.500000  128.000000         360.00000   \n",
       "75%        5795.000000        2297.250000  168.000000         360.00000   \n",
       "max       81000.000000       41667.000000  700.000000         480.00000   \n",
       "\n",
       "       Credit_History  \n",
       "count      564.000000  \n",
       "mean         0.842199  \n",
       "std          0.364878  \n",
       "min          0.000000  \n",
       "25%          1.000000  \n",
       "50%          1.000000  \n",
       "75%          1.000000  \n",
       "max          1.000000  "
      ]
     },
     "execution_count": 5,
     "metadata": {},
     "output_type": "execute_result"
    }
   ],
   "source": [
    "# get description of numerical variables/columns from the dataset\n",
    "df.describe()"
   ]
  },
  {
   "cell_type": "markdown",
   "metadata": {},
   "source": [
    "There are total 614 values (rows) with 13 features (column).\n",
    "\n",
    "Only numerical variables are described using this function.\n",
    "\n",
    "Any column's count less than 614 represents \"missing\".\n",
    "\n",
    "- LoanAmmount: there are $\\displaystyle\\frac{614 - 592}{614}\\approx3.5\\%$ missing values\n",
    "\n",
    "\n",
    "- Loan_Amount_Term: there are $2.3\\%$ missing values\n",
    "\n",
    "\n",
    "- Credit_History: there are $8.1\\%$ missing values\n",
    "\n",
    "Around $84\\%$ people have Credit_History (From mean).\n",
    "\n",
    "- 1.0 means Yes and 0.0 means No. "
   ]
  },
  {
   "cell_type": "markdown",
   "metadata": {},
   "source": [
    "# I. Identify the pattern\n",
    "#### 1. Correlation vs Causation\n",
    "Since to make a rough guess on which variables may have huge impact on the Loan Decision. I consider the Correlation between __Loan_Status__ with other variables. However, the Correlation is not neccessarily the Causation, and since I dont have any tool to evaluate Causation directly, I go through the Correlation to make a guess about the Causation. \n",
    "\n",
    "Another thing needs to bear in mind is that outliers have impact on Correlation. Since I havent treated the outliers yet, the result here may even be less accurated.\n",
    "\n",
    "The rough guess here will help me form a very first \"flow\" of my analysis, i.e, which variables I should treat with care or which feature may have the most influence to Loan Decision.\n",
    "\n",
    "##### Caution: Correlation and Causation are different things !!!!! And there is no certain conclusion about causation through Correlation, use this way of thinking cautiously."
   ]
  },
  {
   "cell_type": "code",
   "execution_count": 6,
   "metadata": {},
   "outputs": [
    {
     "data": {
      "text/plain": [
       "No     500\n",
       "Yes     82\n",
       "Name: Self_Employed, dtype: int64"
      ]
     },
     "execution_count": 6,
     "metadata": {},
     "output_type": "execute_result"
    }
   ],
   "source": [
    "# get frequency of non-numerical columns\n",
    "df['Self_Employed'].value_counts()"
   ]
  },
  {
   "cell_type": "code",
   "execution_count": 7,
   "metadata": {},
   "outputs": [
    {
     "data": {
      "text/plain": [
       "Gender               0.019857\n",
       "Married              0.089280\n",
       "Education            0.085884\n",
       "Self_Employed       -0.002303\n",
       "ApplicantIncome     -0.004710\n",
       "CoapplicantIncome   -0.059187\n",
       "LoanAmount          -0.037318\n",
       "Loan_Amount_Term    -0.021268\n",
       "Credit_History       0.561678\n",
       "Property_Area        0.103253\n",
       "Loan_Status          1.000000\n",
       "Name: Loan_Status, dtype: float64"
      ]
     },
     "execution_count": 7,
     "metadata": {},
     "output_type": "execute_result"
    }
   ],
   "source": [
    "# Map non-numerical values into numerical values so we can compute correlation\n",
    "map_YN = {'Y' : 1, 'N' : 0}\n",
    "map_YN1 = {'Yes' : 1, 'No' : 0}\n",
    "map_Gender = {'Male' : 1, 'Female' : 0}\n",
    "map_Edu = {'Graduate' : 1, 'Not Graduate' : 0}\n",
    "map_Area = {'Urban' : 0, 'Rural' : 1, 'Semiurban' : 2}\n",
    "df_mapped = df.replace({'Loan_Status' : map_YN,\n",
    "                        'Married' : map_YN1, \n",
    "                        'Self_Employed' : map_YN1,\n",
    "                        'Gender' : map_Gender,\n",
    "                        'Education' : map_Edu,\n",
    "                        'Property_Area' : map_Area})\n",
    "df_mapped.head()\n",
    "df_mapped.corr()['Loan_Status'] # The correlation between Loan_Status and other variables"
   ]
  },
  {
   "cell_type": "markdown",
   "metadata": {},
   "source": [
    "#### 2. Forming the \"flow\" of my analysis\n",
    "By observation, It can be seen that Credit_History __may__ have high influence to the Loan_Status, since it stands out too much as compared to the rest. I will then use Pivotal Table to have further anlysis on the relationship between __Credit_History__ and __Loan_Status__"
   ]
  },
  {
   "cell_type": "code",
   "execution_count": 8,
   "metadata": {},
   "outputs": [
    {
     "name": "stdout",
     "output_type": "stream",
     "text": [
      "Frequency Table for Credit History: \n",
      "0.0     89\n",
      "1.0    475\n",
      "Name: Credit_History, dtype: int64\n",
      "\n",
      "Probility of getting loan for each Credit History class: \n",
      "                Loan_Status\n",
      "Credit_History             \n",
      "0.0                0.078652\n",
      "1.0                0.795789\n"
     ]
    }
   ],
   "source": [
    "# Try finding the Trend between Credit_History vs Loan_Status\n",
    "temp1 = df['Credit_History'].value_counts(ascending=True)\n",
    "temp2 = df.pivot_table(values='Loan_Status', index=['Credit_History'], aggfunc=lambda x: x.map({'Y':1,'N':0}).mean())\n",
    "print ('Frequency Table for Credit History: \\n%s' % temp1) \n",
    "print ('\\nProbility of getting loan for each Credit History class: \\n%s' % temp2)"
   ]
  },
  {
   "cell_type": "markdown",
   "metadata": {},
   "source": [
    "Let's plot the bar charts to make comparision easier."
   ]
  },
  {
   "cell_type": "code",
   "execution_count": 9,
   "metadata": {},
   "outputs": [
    {
     "data": {
      "text/plain": [
       "[Text(0, 0, 'No'), Text(0, 0, 'Yes')]"
      ]
     },
     "execution_count": 9,
     "metadata": {},
     "output_type": "execute_result"
    },
    {
     "data": {
      "image/png": "[encoded data removed]",
      "text/plain": [
       "<Figure size 576x288 with 2 Axes>"
      ]
     },
     "metadata": {
      "needs_background": "light"
     },
     "output_type": "display_data"
    }
   ],
   "source": [
    "fig = plt.figure(figsize=(8,4))\n",
    "ax1 = fig.add_subplot(121)\n",
    "ax1.set_xlabel('Credit_History')\n",
    "ax1.set_ylabel('Count of Applicants')\n",
    "ax1.set_title(\"Applicants by Credit_History\")\n",
    "temp1.plot(kind='bar', ax=ax1)\n",
    "ax1.set_xticklabels(['No', 'Yes'])\n",
    "\n",
    "ax2 = fig.add_subplot(122)\n",
    "ax2.set_xlabel('Credit_History')\n",
    "ax2.set_ylabel('Probability of getting loan')\n",
    "ax2.set_title(\"Probability of getting loan by credit history\")\n",
    "temp2.plot(kind = 'bar', ax=ax2, legend=False)\n",
    "ax2.set_xticklabels(['No', 'Yes'])"
   ]
  },
  {
   "cell_type": "markdown",
   "metadata": {},
   "source": [
    "It seems that having a credit_history will likely to get a loan as well. Still, the pattern above only tells us the correlation between the credit_history and probability of getting loan, however from this I can say the learning algorithm will bias to this Credit_History and I can actually just build a learning algorithm based on __Credit_History__ only. However, I still want to build learning model based on another variables for this problem."
   ]
  },
  {
   "cell_type": "markdown",
   "metadata": {},
   "source": [
    "# II. Data Wrangling\n",
    "#### 1. Mean and Std\n",
    "I will assumed that all variables follow normal distribution, so I can use the idea of __Z-score__ to detect outliers.\n",
    "\n",
    "From Mean and Std of the table above, I can roughly guess where should be the center of distribution of a variable.\n",
    "\n",
    "then I evaluate which variable has \"outliers\" needed to be treated by roughly calculate the $outlier_{thershold} = mean + 3 \\times std$. (Derived from the __Z-score__ formular)\n",
    "\n",
    "\"Missing Values\" and \"Outliers\" in variables are required some amount of data wrangling.\n",
    "\n",
    "Since this project is for the sake of learning, it is good to test various learning algorithms from linear/logistic regression, tree-based model to neural networks. And because Logistic regression are sensity to missing values and outliers, I need to treat these two. \n",
    "\n",
    "Basically to recognise which variables has outliers, let us consider their boxplots."
   ]
  },
  {
   "cell_type": "code",
   "execution_count": 10,
   "metadata": {},
   "outputs": [
    {
     "data": {
      "image/png": "[encoded data removed]",
      "text/plain": [
       "<Figure size 432x288 with 4 Axes>"
      ]
     },
     "metadata": {
      "needs_background": "light"
     },
     "output_type": "display_data"
    }
   ],
   "source": [
    "plt.subplot(1,4,1)\n",
    "df.boxplot(column='ApplicantIncome')\n",
    "plt.subplot(1,4,2)\n",
    "df.boxplot(column='CoapplicantIncome')\n",
    "plt.subplot(1,4,3)\n",
    "df.boxplot(column='LoanAmount')\n",
    "plt.subplot(1,4,4)\n",
    "df.boxplot(column='Loan_Amount_Term')\n",
    "plt.tight_layout()"
   ]
  },
  {
   "cell_type": "markdown",
   "metadata": {},
   "source": [
    "Loan_Amount_Term has no outliers based on its boxplot.\n",
    "\n",
    "The other three need treatment.\n",
    "\n",
    "Next to recognise which variables have missing values:"
   ]
  },
  {
   "cell_type": "code",
   "execution_count": 11,
   "metadata": {},
   "outputs": [
    {
     "data": {
      "text/plain": [
       "Loan_ID               0\n",
       "Gender               13\n",
       "Married               3\n",
       "Dependents           15\n",
       "Education             0\n",
       "Self_Employed        32\n",
       "ApplicantIncome       0\n",
       "CoapplicantIncome     0\n",
       "LoanAmount           22\n",
       "Loan_Amount_Term     14\n",
       "Credit_History       50\n",
       "Property_Area         0\n",
       "Loan_Status           0\n",
       "dtype: int64"
      ]
     },
     "execution_count": 11,
     "metadata": {},
     "output_type": "execute_result"
    }
   ],
   "source": [
    "df.apply(lambda x: sum(x.isnull()), axis=0) "
   ]
  },
  {
   "cell_type": "markdown",
   "metadata": {},
   "source": [
    "The amount of missing is not much comparing the total rows (614). There is not neccessary to drop a whole column, however these missing values need to be filled somehow.\n",
    "\n",
    "One note, sometimes 'NaN' or 'None' are not the only indicators of \"missing values\", it really depends on the meaning of the variables. In this case, if numerical variables like __ApplicantIncome__, __Loan-Amount-Term__, listed above, contain some __0__ , it makes more sense considering those __0__ as missing values rather than meaningful figures. "
   ]
  },
  {
   "cell_type": "code",
   "execution_count": 12,
   "metadata": {},
   "outputs": [
    {
     "data": {
      "text/plain": [
       "Loan_ID                0\n",
       "Gender                 0\n",
       "Married                0\n",
       "Dependents             0\n",
       "Education              0\n",
       "Self_Employed          0\n",
       "ApplicantIncome        0\n",
       "CoapplicantIncome    273\n",
       "LoanAmount             0\n",
       "Loan_Amount_Term       0\n",
       "Credit_History        89\n",
       "Property_Area          0\n",
       "Loan_Status            0\n",
       "dtype: int64"
      ]
     },
     "execution_count": 12,
     "metadata": {},
     "output_type": "execute_result"
    }
   ],
   "source": [
    "df.apply(lambda x: sum((x==0).astype(int)), axis=0) "
   ]
  },
  {
   "cell_type": "markdown",
   "metadata": {},
   "source": [
    "It seems that there is no nonsense zeroes here."
   ]
  },
  {
   "cell_type": "markdown",
   "metadata": {},
   "source": [
    "#### 2. Treatment"
   ]
  },
  {
   "cell_type": "markdown",
   "metadata": {},
   "source": [
    "#### a. ApplicantIncome Variables\n",
    "In ApplicantIncome, the center should be around $5403 \\pm 6109$. Anything greater than $5403 + 3*6109 = 23730$ is considered to be outliers. If I plot the distribution of this variable, I expect to see a large amount of sample in the range $ [0, 11512]$."
   ]
  },
  {
   "cell_type": "code",
   "execution_count": 13,
   "metadata": {},
   "outputs": [
    {
     "data": {
      "image/png": "[encoded data removed]",
      "text/plain": [
       "<Figure size 432x288 with 2 Axes>"
      ]
     },
     "metadata": {
      "needs_background": "light"
     },
     "output_type": "display_data"
    }
   ],
   "source": [
    "# plot the histogram and box_plot of the ApplicantIncome\n",
    "plt.subplot(1,2,1)\n",
    "df['ApplicantIncome'].hist(bins=50, orientation='horizontal') # 50 bins are sufficient to describe clearly the distribution\n",
    "plt.subplot(1,2,2)\n",
    "df.boxplot(column='ApplicantIncome')\n",
    "plt.tight_layout()"
   ]
  },
  {
   "cell_type": "code",
   "execution_count": 14,
   "metadata": {},
   "outputs": [
    {
     "data": {
      "text/plain": [
       "Graduate        480\n",
       "Not Graduate    134\n",
       "Name: Education, dtype: int64"
      ]
     },
     "execution_count": 14,
     "metadata": {},
     "output_type": "execute_result"
    }
   ],
   "source": [
    "df['Education'].value_counts()"
   ]
  },
  {
   "cell_type": "markdown",
   "metadata": {},
   "source": [
    "The histogram on the left tells me the distribution of the __ApplicantIncome__ variable. The box_plot on the right is to point out the outliers in a clearer way. \n",
    "\n",
    "I attempt to explain the reasons behind the outliers of the ApplicantIncome. In this dataset, the factor that may have signigficant influence to the Income is the __Education__. Specifically, Is it possible that that __graduate__ may have higher income that __not graduate__ ?\n",
    "\n",
    "To clarify this, lets group the Income by Education and see their box_plot"
   ]
  },
  {
   "cell_type": "code",
   "execution_count": 15,
   "metadata": {},
   "outputs": [
    {
     "data": {
      "text/plain": [
       "Text(0.5, 1.05, 'Boxplot by Education')"
      ]
     },
     "execution_count": 15,
     "metadata": {},
     "output_type": "execute_result"
    },
    {
     "data": {
      "image/png": "[encoded data removed]",
      "text/plain": [
       "<Figure size 432x288 with 1 Axes>"
      ]
     },
     "metadata": {
      "needs_background": "light"
     },
     "output_type": "display_data"
    }
   ],
   "source": [
    "df.boxplot(column='ApplicantIncome', by = 'Education')\n",
    "plt.suptitle('Boxplot by Education', y=1.05)"
   ]
  },
  {
   "cell_type": "markdown",
   "metadata": {},
   "source": [
    "The means of income are pretty similar for both __Graduate__ and __Not Graduate__ Applicants. But the outliers are all in  __Graduate__ group, which confirmed my hypothesis above."
   ]
  },
  {
   "cell_type": "markdown",
   "metadata": {},
   "source": [
    "#### Combine both ApplicantIncome and CoapplicantIncome\n",
    "\n",
    "However, I notice that, there are two types of Income here, and from the boxplots above, both of them contain outliers. It is not a good idea to treat their outliers independently, because they are additictive to each other. In fact, I should only consider the Sum Income from both of them. Thus I wont miss the case that is only one of them has good income is sufficient to affect the Loan Decision."
   ]
  },
  {
   "cell_type": "code",
   "execution_count": 16,
   "metadata": {},
   "outputs": [],
   "source": [
    "df['TotalIncome'] = df['ApplicantIncome'] + df['CoapplicantIncome']"
   ]
  },
  {
   "cell_type": "markdown",
   "metadata": {},
   "source": [
    "Let's try nullify the impact of outlier by applying log scale to the TotalIncome."
   ]
  },
  {
   "cell_type": "code",
   "execution_count": 17,
   "metadata": {},
   "outputs": [
    {
     "data": {
      "image/png": "[encoded data removed]",
      "text/plain": [
       "<Figure size 432x288 with 2 Axes>"
      ]
     },
     "metadata": {
      "needs_background": "light"
     },
     "output_type": "display_data"
    }
   ],
   "source": [
    "plt.subplot(1,2,1)\n",
    "df['TotalIncome_log'] = np.log(df['TotalIncome'])\n",
    "df['TotalIncome_log'].hist(bins=20, orientation='horizontal') \n",
    "plt.subplot(1,2,2)\n",
    "df.boxplot('TotalIncome_log')\n",
    "plt.tight_layout()"
   ]
  },
  {
   "cell_type": "markdown",
   "metadata": {},
   "source": [
    "The distribution of TotalIncome_log (right figure) looks closer to the normal distribution"
   ]
  },
  {
   "cell_type": "code",
   "execution_count": 18,
   "metadata": {},
   "outputs": [
    {
     "data": {
      "text/plain": [
       "10.304718173059907"
      ]
     },
     "execution_count": 18,
     "metadata": {},
     "output_type": "execute_result"
    }
   ],
   "source": [
    "# the outlier threshold for this variable is calculated as followed:\n",
    "df['TotalIncome_log'].mean() + 3*df['TotalIncome_log'].std()"
   ]
  },
  {
   "cell_type": "markdown",
   "metadata": {},
   "source": [
    "From the boxplot of TotalIncome_log, I can see that the outliers become less impactful than the orignal one (closer to the the outlier threshold = 10.3) and since there are not so many outliers, I dont need to drop them but use the log scale version of this variable instead."
   ]
  },
  {
   "cell_type": "markdown",
   "metadata": {},
   "source": [
    "#### b. LoanAmount Variable\n",
    "Next, moving on to the __LoanAmount__."
   ]
  },
  {
   "cell_type": "code",
   "execution_count": 19,
   "metadata": {
    "scrolled": true
   },
   "outputs": [
    {
     "data": {
      "image/png": "[encoded data removed]",
      "text/plain": [
       "<Figure size 432x288 with 2 Axes>"
      ]
     },
     "metadata": {
      "needs_background": "light"
     },
     "output_type": "display_data"
    }
   ],
   "source": [
    "plt.subplot(1,2,1)\n",
    "df['LoanAmount'].hist(bins=50, orientation=\"horizontal\") # 50 bins are sufficient to describe clearly the distribution\n",
    "plt.subplot(1,2,2)\n",
    "df.boxplot(column='LoanAmount')\n",
    "plt.tight_layout()"
   ]
  },
  {
   "cell_type": "code",
   "execution_count": 20,
   "metadata": {},
   "outputs": [
    {
     "data": {
      "text/plain": [
       "Text(0.5, 1.05, 'Boxplot by Education')"
      ]
     },
     "execution_count": 20,
     "metadata": {},
     "output_type": "execute_result"
    },
    {
     "data": {
      "image/png": "[encoded data removed]",
      "text/plain": [
       "<Figure size 432x288 with 1 Axes>"
      ]
     },
     "metadata": {
      "needs_background": "light"
     },
     "output_type": "display_data"
    }
   ],
   "source": [
    "df.boxplot(column='LoanAmount', by = 'Education')\n",
    "plt.suptitle('Boxplot by Education', y=1.05)"
   ]
  },
  {
   "cell_type": "markdown",
   "metadata": {},
   "source": [
    "This variable has \"missing values\" and \"outliers\" need to be treated. And it appears to me that the the outliers comes mostly from \"Graduate\" group."
   ]
  },
  {
   "cell_type": "markdown",
   "metadata": {},
   "source": [
    "#### Treating missing values\n",
    "\n",
    "The easiest way is to just fill the missing values with means.\n",
    "\n",
    "df['LoanAmount'].fillna(df['LoanAmount'].mean(), inplace=True)\n",
    " \n",
    "However, for the sake of learning, lets do it differently, by filling in missing values base on the basis of other variables (__unit imputation__). I will use multivariate linear regression model for imputation."
   ]
  },
  {
   "cell_type": "code",
   "execution_count": 21,
   "metadata": {},
   "outputs": [
    {
     "data": {
      "text/plain": [
       "Gender               0.106947\n",
       "Education            0.171133\n",
       "Self_Employed        0.123931\n",
       "ApplicantIncome      0.570909\n",
       "CoapplicantIncome    0.188619\n",
       "LoanAmount           1.000000\n",
       "Loan_Amount_Term     0.039447\n",
       "Credit_History      -0.008433\n",
       "Property_Area        0.014074\n",
       "Loan_Status         -0.037318\n",
       "TotalIncome          0.624621\n",
       "TotalIncome_log      0.700809\n",
       "Name: LoanAmount, dtype: float64"
      ]
     },
     "execution_count": 21,
     "metadata": {},
     "output_type": "execute_result"
    }
   ],
   "source": [
    "map_YN = {'Y' : 1, 'N' : 0}\n",
    "map_YN1 = {'Yes' : 1, 'No' : 0}\n",
    "map_Gender = {'Male' : 1, 'Female' : 0}\n",
    "map_Edu = {'Graduate' : 1, 'Not Graduate' : 0}\n",
    "map_Area = {'Urban' : 0, 'Rural' : 1, 'Semiurban' : 2}\n",
    "df_mapped = df.replace({'Loan_Status' : map_YN,\n",
    "                        'Married' : map_YN,\n",
    "                        'Self_Employed' : map_YN1,\n",
    "                        'Gender' : map_Gender,\n",
    "                        'Education' : map_Edu,\n",
    "                        'Property_Area' : map_Area})\n",
    "df_mapped.head()\n",
    "df_mapped.corr()['LoanAmount']"
   ]
  },
  {
   "cell_type": "markdown",
   "metadata": {},
   "source": [
    "From the above correlation tables and from our common sense, The missing values in __LoanAmount__ can be estimated based on __Education__ , __Self_Employed__ and __TotalIncome_log__. And thus my linear regression model to fill the __LoanAmount__ will take __Education__ , __Self_Employed__ and __TotalIncome_log__ as inputs. \n",
    "\n",
    "I must make sure all the referal variables are free of missing values."
   ]
  },
  {
   "cell_type": "code",
   "execution_count": 22,
   "metadata": {},
   "outputs": [
    {
     "data": {
      "text/plain": [
       "Loan_ID               0\n",
       "Gender               13\n",
       "Married               3\n",
       "Dependents           15\n",
       "Education             0\n",
       "Self_Employed        32\n",
       "ApplicantIncome       0\n",
       "CoapplicantIncome     0\n",
       "LoanAmount           22\n",
       "Loan_Amount_Term     14\n",
       "Credit_History       50\n",
       "Property_Area         0\n",
       "Loan_Status           0\n",
       "TotalIncome           0\n",
       "TotalIncome_log       0\n",
       "dtype: int64"
      ]
     },
     "execution_count": 22,
     "metadata": {},
     "output_type": "execute_result"
    }
   ],
   "source": [
    "df.apply(lambda x: sum(x.isnull()), axis=0) "
   ]
  },
  {
   "cell_type": "markdown",
   "metadata": {},
   "source": [
    "So only __Self_Employed__ variable has 32 missing values and it is a non-numerical variable. To fill the missing value for __Self_Employed__ there are numerous ways:\n",
    "\n",
    "- based on the frequency of other values in the variables\n",
    "- based on another variable, we repeat the step above, check correlation table and the intuition.\n",
    "\n",
    "In this case, I believe the first approach is sufficient."
   ]
  },
  {
   "cell_type": "code",
   "execution_count": 23,
   "metadata": {},
   "outputs": [
    {
     "data": {
      "text/plain": [
       "No     500\n",
       "Yes     82\n",
       "Name: Self_Employed, dtype: int64"
      ]
     },
     "execution_count": 23,
     "metadata": {},
     "output_type": "execute_result"
    }
   ],
   "source": [
    "# check frequency of values in Self_Employed\n",
    "df['Self_Employed'].value_counts()"
   ]
  },
  {
   "cell_type": "markdown",
   "metadata": {},
   "source": [
    "Majority of values are No, lets just simply assign No to all NaN values."
   ]
  },
  {
   "cell_type": "code",
   "execution_count": 24,
   "metadata": {},
   "outputs": [],
   "source": [
    "df['Self_Employed'].fillna('No',inplace=True)"
   ]
  },
  {
   "cell_type": "markdown",
   "metadata": {},
   "source": [
    "Now I can build multivariate linear regression model to fill the __LoanAmount__"
   ]
  },
  {
   "cell_type": "code",
   "execution_count": 25,
   "metadata": {},
   "outputs": [],
   "source": [
    "# re-mapped\n",
    "df['Self_Employed'].fillna('No', inplace=True)\n",
    "map_YN = {'Y' : 1.0, 'N' : 0.0}\n",
    "map_YN1 = {'Yes' : 1.0, 'No' : 0.0}\n",
    "map_Gender = {'Male' : 1.0, 'Female' : 0.0}\n",
    "map_Edu = {'Graduate' : 1.0, 'Not Graduate' : 0.0}\n",
    "map_Area = {'Urban' : 0.0, 'Rural' : 1.0, 'Semiurban' : 2.0}\n",
    "df_mapped = df.replace({'Loan_Status' : map_YN,\n",
    "                        'Married' : map_YN1,\n",
    "                        'Self_Employed' : map_YN1,\n",
    "                        'Gender' : map_Gender,\n",
    "                        'Education' : map_Edu,\n",
    "                        'Property_Area' : map_Area})"
   ]
  },
  {
   "cell_type": "markdown",
   "metadata": {},
   "source": [
    "#### Note:\n",
    "Before continue, let me explain a bit about my mapping above. You may notice i remapped categorical variables into numerical variable. I mapped three categories of __Property_Area__ into __ordered numerical values__ (1,2,3). This is not allowed if I use this variable for learning model. But since I just want to have a rough test with correlation (I actually tried different combination of numbers, the correlation doest not change much) to figure out which variable is possibly the important one here, I can temporarily ignore this way of __ordered mapping__. A solution for this is to split this variable into __2 dummy varibles__."
   ]
  },
  {
   "cell_type": "code",
   "execution_count": 26,
   "metadata": {},
   "outputs": [
    {
     "data": {
      "text/html": [
       "<div>\n",
       "<style scoped>\n",
       "    .dataframe tbody tr th:only-of-type {\n",
       "        vertical-align: middle;\n",
       "    }\n",
       "\n",
       "    .dataframe tbody tr th {\n",
       "        vertical-align: top;\n",
       "    }\n",
       "\n",
       "    .dataframe thead th {\n",
       "        text-align: right;\n",
       "    }\n",
       "</style>\n",
       "<table border=\"1\" class=\"dataframe\">\n",
       "  <thead>\n",
       "    <tr style=\"text-align: right;\">\n",
       "      <th></th>\n",
       "      <th>Area_Rural</th>\n",
       "      <th>Area_Semiurban</th>\n",
       "      <th>Area_Urban</th>\n",
       "    </tr>\n",
       "  </thead>\n",
       "  <tbody>\n",
       "    <tr>\n",
       "      <th>0</th>\n",
       "      <td>0</td>\n",
       "      <td>0</td>\n",
       "      <td>1</td>\n",
       "    </tr>\n",
       "    <tr>\n",
       "      <th>1</th>\n",
       "      <td>1</td>\n",
       "      <td>0</td>\n",
       "      <td>0</td>\n",
       "    </tr>\n",
       "    <tr>\n",
       "      <th>2</th>\n",
       "      <td>0</td>\n",
       "      <td>0</td>\n",
       "      <td>1</td>\n",
       "    </tr>\n",
       "    <tr>\n",
       "      <th>3</th>\n",
       "      <td>0</td>\n",
       "      <td>0</td>\n",
       "      <td>1</td>\n",
       "    </tr>\n",
       "    <tr>\n",
       "      <th>4</th>\n",
       "      <td>0</td>\n",
       "      <td>0</td>\n",
       "      <td>1</td>\n",
       "    </tr>\n",
       "  </tbody>\n",
       "</table>\n",
       "</div>"
      ],
      "text/plain": [
       "   Area_Rural  Area_Semiurban  Area_Urban\n",
       "0           0               0           1\n",
       "1           1               0           0\n",
       "2           0               0           1\n",
       "3           0               0           1\n",
       "4           0               0           1"
      ]
     },
     "execution_count": 26,
     "metadata": {},
     "output_type": "execute_result"
    }
   ],
   "source": [
    "# create three dummy variables using get_dummies\n",
    "pd.get_dummies(df['Property_Area'], prefix='Area').head()"
   ]
  },
  {
   "cell_type": "markdown",
   "metadata": {},
   "source": [
    "However, I actually only need two dummy variables, not three because 2 dummies are enough to capture the information of the original variable."
   ]
  },
  {
   "cell_type": "code",
   "execution_count": 27,
   "metadata": {},
   "outputs": [
    {
     "data": {
      "text/html": [
       "<div>\n",
       "<style scoped>\n",
       "    .dataframe tbody tr th:only-of-type {\n",
       "        vertical-align: middle;\n",
       "    }\n",
       "\n",
       "    .dataframe tbody tr th {\n",
       "        vertical-align: top;\n",
       "    }\n",
       "\n",
       "    .dataframe thead th {\n",
       "        text-align: right;\n",
       "    }\n",
       "</style>\n",
       "<table border=\"1\" class=\"dataframe\">\n",
       "  <thead>\n",
       "    <tr style=\"text-align: right;\">\n",
       "      <th></th>\n",
       "      <th>Area_Rural</th>\n",
       "      <th>Area_Urban</th>\n",
       "    </tr>\n",
       "  </thead>\n",
       "  <tbody>\n",
       "    <tr>\n",
       "      <th>0</th>\n",
       "      <td>0</td>\n",
       "      <td>1</td>\n",
       "    </tr>\n",
       "    <tr>\n",
       "      <th>1</th>\n",
       "      <td>1</td>\n",
       "      <td>0</td>\n",
       "    </tr>\n",
       "    <tr>\n",
       "      <th>2</th>\n",
       "      <td>0</td>\n",
       "      <td>1</td>\n",
       "    </tr>\n",
       "    <tr>\n",
       "      <th>3</th>\n",
       "      <td>0</td>\n",
       "      <td>1</td>\n",
       "    </tr>\n",
       "    <tr>\n",
       "      <th>4</th>\n",
       "      <td>0</td>\n",
       "      <td>1</td>\n",
       "    </tr>\n",
       "  </tbody>\n",
       "</table>\n",
       "</div>"
      ],
      "text/plain": [
       "   Area_Rural  Area_Urban\n",
       "0           0           1\n",
       "1           1           0\n",
       "2           0           1\n",
       "3           0           1\n",
       "4           0           1"
      ]
     },
     "execution_count": 27,
     "metadata": {},
     "output_type": "execute_result"
    }
   ],
   "source": [
    "# create three dummy variables using get_dummies, then exclude the second dummy column\n",
    "area_dummies = pd.get_dummies(df['Property_Area'], prefix='Area').iloc[:, [0,2]]\n",
    "area_dummies.head()"
   ]
  },
  {
   "cell_type": "markdown",
   "metadata": {},
   "source": [
    "__rural__ is coded as Area_Urban=0 and Area_Rural=1\n",
    "\n",
    "__urban__ is coded as Area_Urban=1 and Area_Rural=0\n",
    "\n",
    "__suburban__ is coded as Area_Urban=0 and Area_Rural=0"
   ]
  },
  {
   "cell_type": "markdown",
   "metadata": {},
   "source": [
    "Now, I will get back to the treatment of missing values in LoanAmount. \n",
    "\n",
    "#### Implementation of multivariate linear regression"
   ]
  },
  {
   "cell_type": "code",
   "execution_count": 28,
   "metadata": {},
   "outputs": [],
   "source": [
    "# get all the indexes of missing values from LoanAmount\n",
    "Missing_index = df_mapped['LoanAmount'][df_mapped['LoanAmount'].isnull()].index\n",
    "\n",
    "# training output\n",
    "Output_loan = df_mapped['LoanAmount'].dropna(axis = 0, how ='any', inplace=False)\n",
    "\n",
    "# training input\n",
    "Features = pd.DataFrame(df_mapped[['TotalIncome_log','Self_Employed','Education']])"
   ]
  },
  {
   "cell_type": "code",
   "execution_count": 29,
   "metadata": {},
   "outputs": [
    {
     "data": {
      "text/plain": [
       "array([[8.71456755, 0.        , 1.        ],\n",
       "       [8.00636757, 1.        , 1.        ],\n",
       "       [8.50532302, 0.        , 0.        ],\n",
       "       ...,\n",
       "       [9.02545553, 0.        , 1.        ],\n",
       "       [8.93366418, 0.        , 1.        ],\n",
       "       [8.43010908, 1.        , 1.        ]])"
      ]
     },
     "execution_count": 29,
     "metadata": {},
     "output_type": "execute_result"
    }
   ],
   "source": [
    "Features.drop(Missing_index, axis=0, inplace=True)\n",
    "Features.values"
   ]
  },
  {
   "cell_type": "code",
   "execution_count": 30,
   "metadata": {},
   "outputs": [
    {
     "data": {
      "text/plain": [
       "(592, 3)"
      ]
     },
     "execution_count": 30,
     "metadata": {},
     "output_type": "execute_result"
    }
   ],
   "source": [
    "# Features.drop(Missing_index, axis=0, inplace=True)\n",
    "Features.shape"
   ]
  },
  {
   "cell_type": "code",
   "execution_count": 31,
   "metadata": {},
   "outputs": [],
   "source": [
    "# Implementation of multivariate linear regression using tensorflow\n",
    "\n",
    "# input/output\n",
    "x = Features.values\n",
    "y = Output_loan.values\n",
    "\n",
    "# linear regression model\n",
    "X = tf.placeholder(tf.float32, shape=[3,]) # 3 features/columns\n",
    "Y = tf.placeholder(tf.float32) \n",
    "W = tf.Variable(tf.zeros([1,3]), name = \"W\") \n",
    "b = tf.Variable(tf.zeros([1]), name = \"b\") \n",
    "\n",
    "learning_rate = 0.001\n",
    "training_epochs = 1000 # To overfitting this training.\n",
    "\n",
    "# Hypothesis \n",
    "y_pred = tf.add(tf.multiply(W, X), b) \n",
    "  \n",
    "# Mean Squared Error Cost Function \n",
    "cost = tf.reduce_sum(tf.pow(y_pred-Y, 2)) / (2 * len(y)) \n",
    "  \n",
    "# Gradient Descent Optimizer \n",
    "optimizer = tf.train.GradientDescentOptimizer(learning_rate).minimize(cost) \n",
    "  \n",
    "# Global Variables Initializer \n",
    "init = tf.global_variables_initializer() "
   ]
  },
  {
   "cell_type": "code",
   "execution_count": 32,
   "metadata": {},
   "outputs": [
    {
     "name": "stdout",
     "output_type": "stream",
     "text": [
      "Epoch 100 : cost = 16.975714 W = [[14.474614   2.0827544 10.503593 ]] b = [27.207111]\n",
      "Epoch 200 : cost = 9.729788 W = [[12.116888  3.836756 18.499971]] b = [47.178993]\n",
      "Epoch 300 : cost = 5.4918184 W = [[10.235913   5.3310084 24.546314 ]] b = [63.05954]\n",
      "Epoch 400 : cost = 3.068248 W = [[ 8.738148   6.6172733 29.064682 ]] b = [75.70745]\n",
      "Epoch 500 : cost = 1.72758 W = [[ 7.5433135  7.7364836 32.388    ]] b = [85.79965]\n",
      "Epoch 600 : cost = 1.0243918 W = [[ 6.588129  8.721037 34.777958]] b = [93.870255]\n",
      "Epoch 700 : cost = 0.6891724 W = [[ 5.8225384  9.59658   36.441185 ]] b = [100.34122]\n",
      "Epoch 800 : cost = 0.5603757 W = [[ 5.2070026 10.383466  37.54062  ]] b = [105.54685]\n",
      "Epoch 900 : cost = 0.5423352 W = [[ 4.7104177 11.097863  38.20326  ]] b = [109.74846]\n",
      "Epoch 1000 : cost = 0.5793485 W = [[ 4.308132 11.752597 38.53068 ]] b = [113.15401]\n",
      "Wall time: 3min 56s\n"
     ]
    }
   ],
   "source": [
    "%%time\n",
    "# set random seed to obtain same result every run\n",
    "np.random.seed(101) \n",
    "tf.set_random_seed(101)\n",
    "\n",
    "# Starting the Tensorflow Session \n",
    "with tf.Session() as sess: \n",
    "      \n",
    "    # Initializing the Variables \n",
    "    sess.run(init) \n",
    "      \n",
    "    # Iterating through all the epochs \n",
    "    for epoch in range(training_epochs): \n",
    "          \n",
    "        # Feeding each data point into the optimizer using Feed Dictionary \n",
    "        for (_x, _y) in zip(x, y): \n",
    "            sess.run(optimizer, feed_dict={X : _x, Y : _y}) \n",
    "          \n",
    "        # Displaying the result after every 100 epochs \n",
    "        if (epoch + 1) % 100 == 0: \n",
    "            # Calculating the cost a every epoch \n",
    "            c = sess.run(cost, feed_dict={X : _x, Y : _y}) \n",
    "            print(\"Epoch\", (epoch + 1), \": cost =\", c, \"W =\", sess.run(W), \"b =\", sess.run(b)) \n",
    "      \n",
    "    # Storing necessary values to be used outside the Session \n",
    "    training_cost = sess.run(cost, feed_dict={X : _x, Y : _y}) \n",
    "    weight = sess.run(W) \n",
    "    bias = sess.run(b) "
   ]
  },
  {
   "cell_type": "code",
   "execution_count": 33,
   "metadata": {},
   "outputs": [
    {
     "name": "stdout",
     "output_type": "stream",
     "text": [
      "Training cost = 0.5793485 Weight = [[ 4.308132 11.752597 38.53068 ]] bias = [113.15401] \n",
      "\n"
     ]
    }
   ],
   "source": [
    "# Calculating the predictions \n",
    "predictions = np.matmul(x, weight.T) + bias \n",
    "print(\"Training cost =\", training_cost, \"Weight =\", weight, \"bias =\", bias, '\\n') "
   ]
  },
  {
   "cell_type": "markdown",
   "metadata": {},
   "source": [
    "## Note:\n",
    "\n",
    "Here I tried to overfit the above multivariate linear regression model, because I want to fill the missing values in LoanAmount in such a way that there will be as less variant as possible. Overfitting in this case turns out to be good, and I dont even need to evaluate the result with validation dataset."
   ]
  },
  {
   "cell_type": "code",
   "execution_count": 34,
   "metadata": {},
   "outputs": [],
   "source": [
    "# fill the missing values\n",
    "Features = pd.DataFrame(df_mapped[['TotalIncome_log','Self_Employed','Education']])\n",
    "Missing_Values = Features.iloc[Missing_index]\n",
    "# predictions = np.matmul(Missing_Values.values, weight.T) + bias\n",
    "prediction = lambda x: np.asscalar(np.matmul(np.matrix([x['TotalIncome_log'], x['Self_Employed'], x['Education']]), weight.T) + bias)\n",
    "df_mapped['LoanAmount'].fillna(df_mapped[df_mapped['LoanAmount'].isnull()].apply(prediction, axis=1), inplace=True)"
   ]
  },
  {
   "cell_type": "markdown",
   "metadata": {},
   "source": [
    "#### Treating outliers\n",
    "First is to try nullify the affect of outliers by applying different scale to the dataset. We use log scale here and expect to see a distribution shape as closer to normal distribution."
   ]
  },
  {
   "cell_type": "code",
   "execution_count": 35,
   "metadata": {},
   "outputs": [
    {
     "data": {
      "image/png": "[encoded data removed]",
      "text/plain": [
       "<Figure size 432x288 with 2 Axes>"
      ]
     },
     "metadata": {
      "needs_background": "light"
     },
     "output_type": "display_data"
    }
   ],
   "source": [
    "# log scale\n",
    "plt.subplot(1,2,1)\n",
    "df_mapped['LoanAmount_log'] = np.log(df_mapped['LoanAmount'])\n",
    "df_mapped['LoanAmount_log'].hist(bins=20, orientation='horizontal')\n",
    "plt.subplot(1,2,2)\n",
    "df_mapped.boxplot(column='LoanAmount_log')\n",
    "plt.tight_layout()"
   ]
  },
  {
   "cell_type": "markdown",
   "metadata": {},
   "source": [
    "As expected, the outliers become less impactful, so I will use the Log transform of LoanAmount.\\\n",
    "\n",
    "Lets recheck how many variable still need a treat"
   ]
  },
  {
   "cell_type": "markdown",
   "metadata": {},
   "source": [
    "df_mapped.apply(lambda x: sum(x.isnull()), axis=0)"
   ]
  },
  {
   "cell_type": "markdown",
   "metadata": {},
   "source": [
    "#### 3. Treatment for Gender, Married, Dependents, Loan_Amount_term and Credit_History Variables\n",
    "#### a. Gender"
   ]
  },
  {
   "cell_type": "code",
   "execution_count": 36,
   "metadata": {},
   "outputs": [
    {
     "data": {
      "text/plain": [
       "Male      489\n",
       "Female    112\n",
       "Name: Gender, dtype: int64"
      ]
     },
     "execution_count": 36,
     "metadata": {},
     "output_type": "execute_result"
    }
   ],
   "source": [
    "df['Gender'].value_counts()"
   ]
  },
  {
   "cell_type": "markdown",
   "metadata": {},
   "source": [
    "Since there is only 13 missing values, I will just assign them to Male - the dominant category here."
   ]
  },
  {
   "cell_type": "code",
   "execution_count": 37,
   "metadata": {},
   "outputs": [],
   "source": [
    "# fill Gender's missing values with Male (1.0) if there is CoapplicantIncome otherwise no (1.0)\n",
    "df_mapped['Gender'].fillna(1, inplace=True)"
   ]
  },
  {
   "cell_type": "markdown",
   "metadata": {},
   "source": [
    "#### b. Married"
   ]
  },
  {
   "cell_type": "markdown",
   "metadata": {},
   "source": [
    "Since there is only 3 missing values, I will assumed if there is no CoapplicantIncome is given, the applicant is still single."
   ]
  },
  {
   "cell_type": "code",
   "execution_count": 38,
   "metadata": {},
   "outputs": [],
   "source": [
    "# fill Married's missing values yes (1.0) if there is CoapplicantIncome otherwise no (1.0)\n",
    "df_mapped['Married'].fillna(df_mapped[df_mapped['Married'].isnull()].apply(lambda x: 1.0 if x['CoapplicantIncome'] else 0.0, axis=1), inplace=True)"
   ]
  },
  {
   "cell_type": "markdown",
   "metadata": {},
   "source": [
    "#### c. Dependent\n",
    "\n",
    "I guess this variable is number of children or retired parents live on the applicants."
   ]
  },
  {
   "cell_type": "code",
   "execution_count": 39,
   "metadata": {},
   "outputs": [
    {
     "data": {
      "text/plain": [
       "0     345\n",
       "1     102\n",
       "2     101\n",
       "3+     51\n",
       "Name: Dependents, dtype: int64"
      ]
     },
     "execution_count": 39,
     "metadata": {},
     "output_type": "execute_result"
    }
   ],
   "source": [
    "df_mapped['Dependents'].value_counts()"
   ]
  },
  {
   "cell_type": "markdown",
   "metadata": {},
   "source": [
    "Before filling the Missing values with 0 (this category has the highest mode/counts here), I want to try to do little analysis to see if this dependents can be imputed on the basis of other variables. Since the most relevant variables to Dependents could be LoanAmount and TotalIncome, they will be used as reference for this analysis."
   ]
  },
  {
   "cell_type": "code",
   "execution_count": 40,
   "metadata": {},
   "outputs": [],
   "source": [
    "# Treat the mixture between number and string in this variable\n",
    "df_mapped.replace({'Dependents' : {'0' : 0.0, '1' : 1.0, '2' : 2.0, '3+' : 3.0}}, inplace=True)"
   ]
  },
  {
   "cell_type": "code",
   "execution_count": 41,
   "metadata": {},
   "outputs": [],
   "source": [
    "# Try filling NaN with something and plot Scatter plot of Dependents based on TotalIncome_log and LoanAmount_log\n",
    "include_NaN =  df_mapped[['Dependents', 'LoanAmount_log', 'TotalIncome_log', 'Property_Area']]\n",
    "fill_NaN = pd.DataFrame(include_NaN)\n",
    "fill_NaN['Dependents'].fillna('Missing', inplace=True)"
   ]
  },
  {
   "cell_type": "code",
   "execution_count": 42,
   "metadata": {},
   "outputs": [
    {
     "data": {
      "image/png": "[encoded data removed]",
      "text/plain": [
       "<Figure size 721.625x432 with 5 Axes>"
      ]
     },
     "metadata": {
      "needs_background": "light"
     },
     "output_type": "display_data"
    }
   ],
   "source": [
    "# Plot Scatter Plot\n",
    "sns.set_stylestyle = (\"whitegrid\")\n",
    "sns.FacetGrid(fill_NaN, col='Dependents', hue='Dependents', col_wrap=3, height=3)\\\n",
    "   .map(plt.scatter,\"LoanAmount_log\", \"TotalIncome_log\")\\\n",
    "   .add_legend()\n",
    "plt.show()"
   ]
  },
  {
   "cell_type": "markdown",
   "metadata": {},
   "source": [
    "Okay, it is clear to see that the missing values (Purple) lie in a common zone of other dependents categories. In this case, I will just assumed that if the Applicant didnt provide Dependents, it will mean that he or she does not have any dependents. Therefore, missing values will be filled with zeros"
   ]
  },
  {
   "cell_type": "code",
   "execution_count": 43,
   "metadata": {},
   "outputs": [],
   "source": [
    "df_mapped['Dependents'].fillna(0, inplace=True)"
   ]
  },
  {
   "cell_type": "markdown",
   "metadata": {},
   "source": [
    "#### d. Credit_History"
   ]
  },
  {
   "cell_type": "markdown",
   "metadata": {},
   "source": [
    "This variable has been analysed before, usually if the applicant with Credit_History will get Loan. Based on this, I can fill Credit_History as __Yes__ if being loan other wise __No__"
   ]
  },
  {
   "cell_type": "code",
   "execution_count": 44,
   "metadata": {},
   "outputs": [],
   "source": [
    "df_mapped['Credit_History'].fillna(df_mapped[df_mapped['Credit_History'].isnull()].apply(lambda x: 1.0 if x['Loan_Status'] else 0.0, axis=1), inplace=True)"
   ]
  },
  {
   "cell_type": "markdown",
   "metadata": {},
   "source": [
    "#### e. Loan_Amount_Term     "
   ]
  },
  {
   "cell_type": "code",
   "execution_count": 45,
   "metadata": {},
   "outputs": [
    {
     "data": {
      "text/plain": [
       "360.0    512\n",
       "180.0     44\n",
       "480.0     15\n",
       "300.0     13\n",
       "84.0       4\n",
       "240.0      4\n",
       "120.0      3\n",
       "36.0       2\n",
       "60.0       2\n",
       "12.0       1\n",
       "Name: Loan_Amount_Term, dtype: int64"
      ]
     },
     "execution_count": 45,
     "metadata": {},
     "output_type": "execute_result"
    }
   ],
   "source": [
    "df_mapped['Loan_Amount_Term'].value_counts()"
   ]
  },
  {
   "cell_type": "markdown",
   "metadata": {},
   "source": [
    "I will fill the missing values with median which is more sensitive to outliers than average. "
   ]
  },
  {
   "cell_type": "code",
   "execution_count": 46,
   "metadata": {},
   "outputs": [],
   "source": [
    "df_mapped['Loan_Amount_Term'].fillna(df_mapped['Loan_Amount_Term'].median(), inplace=True)"
   ]
  },
  {
   "cell_type": "markdown",
   "metadata": {},
   "source": [
    "So far I have treated all the missing_values and outliers."
   ]
  },
  {
   "cell_type": "code",
   "execution_count": 47,
   "metadata": {},
   "outputs": [
    {
     "data": {
      "text/plain": [
       "Loan_ID              0\n",
       "Gender               0\n",
       "Married              0\n",
       "Dependents           0\n",
       "Education            0\n",
       "Self_Employed        0\n",
       "ApplicantIncome      0\n",
       "CoapplicantIncome    0\n",
       "LoanAmount           0\n",
       "Loan_Amount_Term     0\n",
       "Credit_History       0\n",
       "Property_Area        0\n",
       "Loan_Status          0\n",
       "TotalIncome          0\n",
       "TotalIncome_log      0\n",
       "LoanAmount_log       0\n",
       "dtype: int64"
      ]
     },
     "execution_count": 47,
     "metadata": {},
     "output_type": "execute_result"
    }
   ],
   "source": [
    "df_mapped.isnull().sum()"
   ]
  },
  {
   "cell_type": "markdown",
   "metadata": {},
   "source": [
    "#### Final Check\n",
    "- Duplication of Loan_ID: ID should be unique\n",
    "- One-hot encoding the Property_Area: Adding two dummy columns (mentioned before)"
   ]
  },
  {
   "cell_type": "code",
   "execution_count": 48,
   "metadata": {},
   "outputs": [
    {
     "data": {
      "text/plain": [
       "False"
      ]
     },
     "execution_count": 48,
     "metadata": {},
     "output_type": "execute_result"
    }
   ],
   "source": [
    "# Check if Loan_ID is dupplicated\n",
    "df_mapped['Loan_ID'].duplicated().any()"
   ]
  },
  {
   "cell_type": "code",
   "execution_count": 49,
   "metadata": {},
   "outputs": [
    {
     "data": {
      "text/html": [
       "<div>\n",
       "<style scoped>\n",
       "    .dataframe tbody tr th:only-of-type {\n",
       "        vertical-align: middle;\n",
       "    }\n",
       "\n",
       "    .dataframe tbody tr th {\n",
       "        vertical-align: top;\n",
       "    }\n",
       "\n",
       "    .dataframe thead th {\n",
       "        text-align: right;\n",
       "    }\n",
       "</style>\n",
       "<table border=\"1\" class=\"dataframe\">\n",
       "  <thead>\n",
       "    <tr style=\"text-align: right;\">\n",
       "      <th></th>\n",
       "      <th>Loan_ID</th>\n",
       "      <th>Gender</th>\n",
       "      <th>Married</th>\n",
       "      <th>Dependents</th>\n",
       "      <th>Education</th>\n",
       "      <th>Self_Employed</th>\n",
       "      <th>ApplicantIncome</th>\n",
       "      <th>CoapplicantIncome</th>\n",
       "      <th>LoanAmount</th>\n",
       "      <th>Loan_Amount_Term</th>\n",
       "      <th>Credit_History</th>\n",
       "      <th>Property_Area</th>\n",
       "      <th>Loan_Status</th>\n",
       "      <th>TotalIncome</th>\n",
       "      <th>TotalIncome_log</th>\n",
       "      <th>LoanAmount_log</th>\n",
       "      <th>Area_Rural</th>\n",
       "      <th>Area_Urban</th>\n",
       "    </tr>\n",
       "  </thead>\n",
       "  <tbody>\n",
       "    <tr>\n",
       "      <th>0</th>\n",
       "      <td>LP001002</td>\n",
       "      <td>1.0</td>\n",
       "      <td>0.0</td>\n",
       "      <td>0.0</td>\n",
       "      <td>1.0</td>\n",
       "      <td>0.0</td>\n",
       "      <td>5849</td>\n",
       "      <td>0.0</td>\n",
       "      <td>189.053539</td>\n",
       "      <td>360.0</td>\n",
       "      <td>1.0</td>\n",
       "      <td>0.0</td>\n",
       "      <td>1.0</td>\n",
       "      <td>5849.0</td>\n",
       "      <td>8.674026</td>\n",
       "      <td>5.242030</td>\n",
       "      <td>0</td>\n",
       "      <td>1</td>\n",
       "    </tr>\n",
       "    <tr>\n",
       "      <th>1</th>\n",
       "      <td>LP001003</td>\n",
       "      <td>1.0</td>\n",
       "      <td>1.0</td>\n",
       "      <td>1.0</td>\n",
       "      <td>1.0</td>\n",
       "      <td>0.0</td>\n",
       "      <td>4583</td>\n",
       "      <td>1508.0</td>\n",
       "      <td>128.000000</td>\n",
       "      <td>360.0</td>\n",
       "      <td>1.0</td>\n",
       "      <td>1.0</td>\n",
       "      <td>0.0</td>\n",
       "      <td>6091.0</td>\n",
       "      <td>8.714568</td>\n",
       "      <td>4.852030</td>\n",
       "      <td>1</td>\n",
       "      <td>0</td>\n",
       "    </tr>\n",
       "    <tr>\n",
       "      <th>2</th>\n",
       "      <td>LP001005</td>\n",
       "      <td>1.0</td>\n",
       "      <td>1.0</td>\n",
       "      <td>0.0</td>\n",
       "      <td>1.0</td>\n",
       "      <td>1.0</td>\n",
       "      <td>3000</td>\n",
       "      <td>0.0</td>\n",
       "      <td>66.000000</td>\n",
       "      <td>360.0</td>\n",
       "      <td>1.0</td>\n",
       "      <td>0.0</td>\n",
       "      <td>1.0</td>\n",
       "      <td>3000.0</td>\n",
       "      <td>8.006368</td>\n",
       "      <td>4.189655</td>\n",
       "      <td>0</td>\n",
       "      <td>1</td>\n",
       "    </tr>\n",
       "    <tr>\n",
       "      <th>3</th>\n",
       "      <td>LP001006</td>\n",
       "      <td>1.0</td>\n",
       "      <td>1.0</td>\n",
       "      <td>0.0</td>\n",
       "      <td>0.0</td>\n",
       "      <td>0.0</td>\n",
       "      <td>2583</td>\n",
       "      <td>2358.0</td>\n",
       "      <td>120.000000</td>\n",
       "      <td>360.0</td>\n",
       "      <td>1.0</td>\n",
       "      <td>0.0</td>\n",
       "      <td>1.0</td>\n",
       "      <td>4941.0</td>\n",
       "      <td>8.505323</td>\n",
       "      <td>4.787492</td>\n",
       "      <td>0</td>\n",
       "      <td>1</td>\n",
       "    </tr>\n",
       "    <tr>\n",
       "      <th>4</th>\n",
       "      <td>LP001008</td>\n",
       "      <td>1.0</td>\n",
       "      <td>0.0</td>\n",
       "      <td>0.0</td>\n",
       "      <td>1.0</td>\n",
       "      <td>0.0</td>\n",
       "      <td>6000</td>\n",
       "      <td>0.0</td>\n",
       "      <td>141.000000</td>\n",
       "      <td>360.0</td>\n",
       "      <td>1.0</td>\n",
       "      <td>0.0</td>\n",
       "      <td>1.0</td>\n",
       "      <td>6000.0</td>\n",
       "      <td>8.699515</td>\n",
       "      <td>4.948760</td>\n",
       "      <td>0</td>\n",
       "      <td>1</td>\n",
       "    </tr>\n",
       "  </tbody>\n",
       "</table>\n",
       "</div>"
      ],
      "text/plain": [
       "    Loan_ID  Gender  Married  Dependents  Education  Self_Employed  \\\n",
       "0  LP001002     1.0      0.0         0.0        1.0            0.0   \n",
       "1  LP001003     1.0      1.0         1.0        1.0            0.0   \n",
       "2  LP001005     1.0      1.0         0.0        1.0            1.0   \n",
       "3  LP001006     1.0      1.0         0.0        0.0            0.0   \n",
       "4  LP001008     1.0      0.0         0.0        1.0            0.0   \n",
       "\n",
       "   ApplicantIncome  CoapplicantIncome  LoanAmount  Loan_Amount_Term  \\\n",
       "0             5849                0.0  189.053539             360.0   \n",
       "1             4583             1508.0  128.000000             360.0   \n",
       "2             3000                0.0   66.000000             360.0   \n",
       "3             2583             2358.0  120.000000             360.0   \n",
       "4             6000                0.0  141.000000             360.0   \n",
       "\n",
       "   Credit_History  Property_Area  Loan_Status  TotalIncome  TotalIncome_log  \\\n",
       "0             1.0            0.0          1.0       5849.0         8.674026   \n",
       "1             1.0            1.0          0.0       6091.0         8.714568   \n",
       "2             1.0            0.0          1.0       3000.0         8.006368   \n",
       "3             1.0            0.0          1.0       4941.0         8.505323   \n",
       "4             1.0            0.0          1.0       6000.0         8.699515   \n",
       "\n",
       "   LoanAmount_log  Area_Rural  Area_Urban  \n",
       "0        5.242030           0           1  \n",
       "1        4.852030           1           0  \n",
       "2        4.189655           0           1  \n",
       "3        4.787492           0           1  \n",
       "4        4.948760           0           1  "
      ]
     },
     "execution_count": 49,
     "metadata": {},
     "output_type": "execute_result"
    }
   ],
   "source": [
    "df_mapped = pd.concat([df_mapped, area_dummies], axis=1)\n",
    "df_mapped.head()"
   ]
  },
  {
   "cell_type": "markdown",
   "metadata": {},
   "source": [
    " The dataset is now ready for building learning model. All the non-numerical values are mapped to numerical one and dummy vairiables."
   ]
  },
  {
   "cell_type": "markdown",
   "metadata": {},
   "source": [
    "# III. Learning Models"
   ]
  },
  {
   "cell_type": "markdown",
   "metadata": {},
   "source": [
    "Instead of using Tensorflow to reimplement the Linear Regression, Random Forest.. models from scratch, I will use sklearn from this point onward for the sake of convenience.\n",
    "\n",
    "The metric to evaluate the model is Cross-Validation Score (Mean of testing accuracy of every split)"
   ]
  },
  {
   "cell_type": "code",
   "execution_count": 50,
   "metadata": {},
   "outputs": [],
   "source": [
    "# import Logistic Regression, Random Forest, Decision Tree, MLP Classifier(Neural Network)\n",
    "from sklearn.linear_model import LogisticRegression\n",
    "from sklearn.ensemble import RandomForestClassifier\n",
    "from sklearn.neural_network import MLPClassifier\n",
    "from sklearn.tree import DecisionTreeClassifier, export_graphviz\n",
    "from sklearn.model_selection import KFold\n",
    "from sklearn import metrics"
   ]
  },
  {
   "cell_type": "code",
   "execution_count": 51,
   "metadata": {},
   "outputs": [],
   "source": [
    "# Generic function for classification:\n",
    "def classification(model, train, output):\n",
    "\n",
    "    # Perform k-fold cross-validation with 5 folds\n",
    "    kf = KFold(n_splits=5, shuffle=False)\n",
    "    error = []\n",
    "    \n",
    "    for training_idx, validating_idx in kf.split(train):\n",
    "        # Filter training data\n",
    "        train_predictors = train[training_idx, :]\n",
    "    \n",
    "        # The target we're using to train the algorithm.\n",
    "        train_target = output[training_idx]\n",
    "    \n",
    "        # Training the algorithm using the predictors and target.\n",
    "        model.fit(train_predictors, train_target)\n",
    "    \n",
    "        # Record error from each cross-validation run\n",
    "        error.append(model.score(train[validating_idx, :], output[validating_idx]))\n",
    "\n",
    "    # Fit the model:\n",
    "    model.fit(train, output)\n",
    "\n",
    "    # Make predictions on training set:\n",
    "    predictions = model.predict(train)\n",
    "  \n",
    "    # Print accuracy\n",
    "    accuracy = metrics.accuracy_score(predictions, output)\n",
    "    print (\"Accuracy : %.3f\" % (accuracy*100))\n",
    "    \n",
    "    #Print Cross-Validation Score\n",
    "    print (\"Cross-Validation Score : %.3f\" % (np.mean(error)*100))"
   ]
  },
  {
   "cell_type": "markdown",
   "metadata": {},
   "source": [
    "#### 1. Logistic Regression\n",
    "\n",
    "- First approach is to train with Credit History only, as I analysed above, this one has the highest correlation to Loan_Status. Advantage: __Avoid Overfitting__"
   ]
  },
  {
   "cell_type": "code",
   "execution_count": 52,
   "metadata": {},
   "outputs": [
    {
     "data": {
      "text/html": [
       "<div>\n",
       "<style scoped>\n",
       "    .dataframe tbody tr th:only-of-type {\n",
       "        vertical-align: middle;\n",
       "    }\n",
       "\n",
       "    .dataframe tbody tr th {\n",
       "        vertical-align: top;\n",
       "    }\n",
       "\n",
       "    .dataframe thead th {\n",
       "        text-align: right;\n",
       "    }\n",
       "</style>\n",
       "<table border=\"1\" class=\"dataframe\">\n",
       "  <thead>\n",
       "    <tr style=\"text-align: right;\">\n",
       "      <th></th>\n",
       "      <th>Loan_ID</th>\n",
       "      <th>Gender</th>\n",
       "      <th>Married</th>\n",
       "      <th>Dependents</th>\n",
       "      <th>Education</th>\n",
       "      <th>Self_Employed</th>\n",
       "      <th>ApplicantIncome</th>\n",
       "      <th>CoapplicantIncome</th>\n",
       "      <th>LoanAmount</th>\n",
       "      <th>Loan_Amount_Term</th>\n",
       "      <th>Credit_History</th>\n",
       "      <th>Property_Area</th>\n",
       "      <th>Loan_Status</th>\n",
       "      <th>TotalIncome</th>\n",
       "      <th>TotalIncome_log</th>\n",
       "      <th>LoanAmount_log</th>\n",
       "      <th>Area_Rural</th>\n",
       "      <th>Area_Urban</th>\n",
       "    </tr>\n",
       "  </thead>\n",
       "  <tbody>\n",
       "    <tr>\n",
       "      <th>0</th>\n",
       "      <td>LP001002</td>\n",
       "      <td>1.0</td>\n",
       "      <td>0.0</td>\n",
       "      <td>0.0</td>\n",
       "      <td>1.0</td>\n",
       "      <td>0.0</td>\n",
       "      <td>5849</td>\n",
       "      <td>0.0</td>\n",
       "      <td>189.053539</td>\n",
       "      <td>360.0</td>\n",
       "      <td>1.0</td>\n",
       "      <td>0.0</td>\n",
       "      <td>1.0</td>\n",
       "      <td>5849.0</td>\n",
       "      <td>8.674026</td>\n",
       "      <td>5.242030</td>\n",
       "      <td>0</td>\n",
       "      <td>1</td>\n",
       "    </tr>\n",
       "    <tr>\n",
       "      <th>1</th>\n",
       "      <td>LP001003</td>\n",
       "      <td>1.0</td>\n",
       "      <td>1.0</td>\n",
       "      <td>1.0</td>\n",
       "      <td>1.0</td>\n",
       "      <td>0.0</td>\n",
       "      <td>4583</td>\n",
       "      <td>1508.0</td>\n",
       "      <td>128.000000</td>\n",
       "      <td>360.0</td>\n",
       "      <td>1.0</td>\n",
       "      <td>1.0</td>\n",
       "      <td>0.0</td>\n",
       "      <td>6091.0</td>\n",
       "      <td>8.714568</td>\n",
       "      <td>4.852030</td>\n",
       "      <td>1</td>\n",
       "      <td>0</td>\n",
       "    </tr>\n",
       "    <tr>\n",
       "      <th>2</th>\n",
       "      <td>LP001005</td>\n",
       "      <td>1.0</td>\n",
       "      <td>1.0</td>\n",
       "      <td>0.0</td>\n",
       "      <td>1.0</td>\n",
       "      <td>1.0</td>\n",
       "      <td>3000</td>\n",
       "      <td>0.0</td>\n",
       "      <td>66.000000</td>\n",
       "      <td>360.0</td>\n",
       "      <td>1.0</td>\n",
       "      <td>0.0</td>\n",
       "      <td>1.0</td>\n",
       "      <td>3000.0</td>\n",
       "      <td>8.006368</td>\n",
       "      <td>4.189655</td>\n",
       "      <td>0</td>\n",
       "      <td>1</td>\n",
       "    </tr>\n",
       "    <tr>\n",
       "      <th>3</th>\n",
       "      <td>LP001006</td>\n",
       "      <td>1.0</td>\n",
       "      <td>1.0</td>\n",
       "      <td>0.0</td>\n",
       "      <td>0.0</td>\n",
       "      <td>0.0</td>\n",
       "      <td>2583</td>\n",
       "      <td>2358.0</td>\n",
       "      <td>120.000000</td>\n",
       "      <td>360.0</td>\n",
       "      <td>1.0</td>\n",
       "      <td>0.0</td>\n",
       "      <td>1.0</td>\n",
       "      <td>4941.0</td>\n",
       "      <td>8.505323</td>\n",
       "      <td>4.787492</td>\n",
       "      <td>0</td>\n",
       "      <td>1</td>\n",
       "    </tr>\n",
       "    <tr>\n",
       "      <th>4</th>\n",
       "      <td>LP001008</td>\n",
       "      <td>1.0</td>\n",
       "      <td>0.0</td>\n",
       "      <td>0.0</td>\n",
       "      <td>1.0</td>\n",
       "      <td>0.0</td>\n",
       "      <td>6000</td>\n",
       "      <td>0.0</td>\n",
       "      <td>141.000000</td>\n",
       "      <td>360.0</td>\n",
       "      <td>1.0</td>\n",
       "      <td>0.0</td>\n",
       "      <td>1.0</td>\n",
       "      <td>6000.0</td>\n",
       "      <td>8.699515</td>\n",
       "      <td>4.948760</td>\n",
       "      <td>0</td>\n",
       "      <td>1</td>\n",
       "    </tr>\n",
       "  </tbody>\n",
       "</table>\n",
       "</div>"
      ],
      "text/plain": [
       "    Loan_ID  Gender  Married  Dependents  Education  Self_Employed  \\\n",
       "0  LP001002     1.0      0.0         0.0        1.0            0.0   \n",
       "1  LP001003     1.0      1.0         1.0        1.0            0.0   \n",
       "2  LP001005     1.0      1.0         0.0        1.0            1.0   \n",
       "3  LP001006     1.0      1.0         0.0        0.0            0.0   \n",
       "4  LP001008     1.0      0.0         0.0        1.0            0.0   \n",
       "\n",
       "   ApplicantIncome  CoapplicantIncome  LoanAmount  Loan_Amount_Term  \\\n",
       "0             5849                0.0  189.053539             360.0   \n",
       "1             4583             1508.0  128.000000             360.0   \n",
       "2             3000                0.0   66.000000             360.0   \n",
       "3             2583             2358.0  120.000000             360.0   \n",
       "4             6000                0.0  141.000000             360.0   \n",
       "\n",
       "   Credit_History  Property_Area  Loan_Status  TotalIncome  TotalIncome_log  \\\n",
       "0             1.0            0.0          1.0       5849.0         8.674026   \n",
       "1             1.0            1.0          0.0       6091.0         8.714568   \n",
       "2             1.0            0.0          1.0       3000.0         8.006368   \n",
       "3             1.0            0.0          1.0       4941.0         8.505323   \n",
       "4             1.0            0.0          1.0       6000.0         8.699515   \n",
       "\n",
       "   LoanAmount_log  Area_Rural  Area_Urban  \n",
       "0        5.242030           0           1  \n",
       "1        4.852030           1           0  \n",
       "2        4.189655           0           1  \n",
       "3        4.787492           0           1  \n",
       "4        4.948760           0           1  "
      ]
     },
     "execution_count": 52,
     "metadata": {},
     "output_type": "execute_result"
    }
   ],
   "source": [
    "df_mapped.head()"
   ]
  },
  {
   "cell_type": "code",
   "execution_count": 53,
   "metadata": {},
   "outputs": [
    {
     "name": "stdout",
     "output_type": "stream",
     "text": [
      "Accuracy : 83.062\n",
      "Cross-Validation Score : 83.065\n"
     ]
    }
   ],
   "source": [
    "# Case1: Train Model with only Credit_History feature\n",
    "n = df_mapped.shape[0]\n",
    "model = LogisticRegression(solver='lbfgs')\n",
    "train = df_mapped['Credit_History'].values.reshape(n,1) # shape of X = (n, 1)\n",
    "output = df_mapped['Loan_Status'].values # shape of Y = (n, ?)\n",
    "classification(model, train, output)"
   ]
  },
  {
   "cell_type": "code",
   "execution_count": 54,
   "metadata": {},
   "outputs": [
    {
     "name": "stdout",
     "output_type": "stream",
     "text": [
      "Accuracy : 68.730\n",
      "Cross-Validation Score : 68.729\n"
     ]
    }
   ],
   "source": [
    "# Case2: Train Model with more features exclude Credit_History\n",
    "model = LogisticRegression(solver='lbfgs')\n",
    "train = df_mapped[['Education', 'Married', 'Self_Employed']].values # shape of X = (n, 1)\n",
    "output = df_mapped['Loan_Status'].values # shape of Y = (n, ?)\n",
    "classification(model, train, output)"
   ]
  },
  {
   "cell_type": "code",
   "execution_count": 55,
   "metadata": {},
   "outputs": [
    {
     "name": "stdout",
     "output_type": "stream",
     "text": [
      "Accuracy : 83.062\n",
      "Cross-Validation Score : 83.065\n"
     ]
    }
   ],
   "source": [
    "# Case3: Train Model with more features\n",
    "model = LogisticRegression(solver='lbfgs')\n",
    "train = df_mapped[['Credit_History', 'Education', 'Married', 'Self_Employed']].values # shape of X = (n, 1)\n",
    "output = df_mapped['Loan_Status'].values # shape of Y = (n, ?)\n",
    "classification(model, train, output)"
   ]
  },
  {
   "cell_type": "markdown",
   "metadata": {},
   "source": [
    "From the results above:\n",
    "- it is clear to see that __Credit_History__ has dominant influence to the __Loan_Status__. That is the reason why we obtained same testing accuracy and cross-validation score if there is Credit_History presence regardless to wheter or not there are other variables presence. (Case 1, Case 3)\n",
    "\n",
    "- Without the Credit_History presence, the accuracy drops as shown in case 2.\n",
    "\n",
    "- The accuracy is equal or slightly lower the cross-validation score, indicating there is no overfitting.\n",
    "\n",
    "To remove the dominant influence of Credit_history, I may do feature_engineering by creating another strong features, however, this approach is pretty tough. The simpliest way is to move on with another learning algorithm."
   ]
  },
  {
   "cell_type": "markdown",
   "metadata": {},
   "source": [
    "#### 2. Decision Tree\n",
    "\n",
    "This model is pretty easy to get overfitted. Since it takes all data into account."
   ]
  },
  {
   "cell_type": "code",
   "execution_count": 56,
   "metadata": {},
   "outputs": [
    {
     "name": "stdout",
     "output_type": "stream",
     "text": [
      "Accuracy : 83.062\n",
      "Cross-Validation Score : 83.065\n"
     ]
    }
   ],
   "source": [
    "model = DecisionTreeClassifier(random_state=0)\n",
    "train = df_mapped[['Credit_History']].values # shape of X = (n, 1)\n",
    "output = df_mapped['Loan_Status'].values # shape of Y = (n, ?)\n",
    "classification(model, train, output)"
   ]
  },
  {
   "cell_type": "code",
   "execution_count": 57,
   "metadata": {},
   "outputs": [
    {
     "data": {
      "text/plain": [
       "[1, 3]"
      ]
     },
     "execution_count": 57,
     "metadata": {},
     "output_type": "execute_result"
    }
   ],
   "source": [
    "[model.tree_.max_depth, model.tree_.node_count]"
   ]
  },
  {
   "cell_type": "code",
   "execution_count": 58,
   "metadata": {},
   "outputs": [
    {
     "name": "stdout",
     "output_type": "stream",
     "text": [
      "Accuracy : 83.062\n",
      "Cross-Validation Score : 80.299\n"
     ]
    }
   ],
   "source": [
    "model = DecisionTreeClassifier(random_state=0)\n",
    "train = df_mapped[['Credit_History', 'Education', 'Married', 'Self_Employed', 'Area_Rural', 'Area_Urban']].values # shape of X = (n, 1)\n",
    "output = df_mapped['Loan_Status'].values # shape of Y = (n, ?)\n",
    "classification(model, train, output)"
   ]
  },
  {
   "cell_type": "code",
   "execution_count": 59,
   "metadata": {},
   "outputs": [
    {
     "data": {
      "text/plain": [
       "[6, 71]"
      ]
     },
     "execution_count": 59,
     "metadata": {},
     "output_type": "execute_result"
    }
   ],
   "source": [
    "[model.tree_.max_depth, model.tree_.node_count]"
   ]
  },
  {
   "cell_type": "markdown",
   "metadata": {},
   "source": [
    "It seems the model run into overfitting if I use further variable with 'Credit_History'."
   ]
  },
  {
   "cell_type": "markdown",
   "metadata": {},
   "source": [
    "#### 3. Random Forest\n",
    "\n",
    "Random forest is very powerful learning algorithm against imbalance datasets and vairous learning features. The dominace impact of __Credit_History__ may be resolved using this method."
   ]
  },
  {
   "cell_type": "code",
   "execution_count": 60,
   "metadata": {},
   "outputs": [
    {
     "name": "stdout",
     "output_type": "stream",
     "text": [
      "Accuracy : 100.000\n",
      "Cross-Validation Score : 80.625\n"
     ]
    }
   ],
   "source": [
    "model = RandomForestClassifier(n_estimators = 100, max_depth = None, random_state = 1)\n",
    "train = df_mapped[['Gender', 'Married', 'Dependents', 'Education',\n",
    "                   'Self_Employed', 'Loan_Amount_Term', 'Credit_History', 'Area_Rural', 'Area_Urban',\n",
    "                   'LoanAmount_log','TotalIncome_log']].values\n",
    "output = df_mapped['Loan_Status'].values # shape of Y = (n, ?)\n",
    "classification(model, train, output)"
   ]
  },
  {
   "cell_type": "markdown",
   "metadata": {},
   "source": [
    "This model is absolutely overfitting, the training accuracy reaches 100%.\n",
    "\n",
    "I will play around with the trees and depths a bit."
   ]
  },
  {
   "cell_type": "code",
   "execution_count": 61,
   "metadata": {},
   "outputs": [
    {
     "name": "stdout",
     "output_type": "stream",
     "text": [
      "Accuracy : 84.039\n",
      "Cross-Validation Score : 80.119\n"
     ]
    }
   ],
   "source": [
    "model = RandomForestClassifier(n_estimators = 10, max_depth = 4, random_state = 1)\n",
    "train = df_mapped[['Gender', 'Married', 'Dependents', 'Education',\n",
    "                   'Self_Employed', 'Loan_Amount_Term', 'Credit_History', 'Area_Rural', 'Area_Urban',\n",
    "                   'LoanAmount_log','TotalIncome_log']].values\n",
    "output = df_mapped['Loan_Status'].values # shape of Y = (n, ?)\n",
    "classification(model, train, output)"
   ]
  },
  {
   "cell_type": "markdown",
   "metadata": {},
   "source": [
    "Generally speaking, it is much better than before, the Training Accuracy is not higher than The Score too much."
   ]
  },
  {
   "cell_type": "markdown",
   "metadata": {},
   "source": [
    "I want to see how RandomForest \"weighted\" the importance of each features."
   ]
  },
  {
   "cell_type": "code",
   "execution_count": 62,
   "metadata": {},
   "outputs": [
    {
     "name": "stdout",
     "output_type": "stream",
     "text": [
      "('Self_Employed', 0.009442531028655258)\n",
      "('Gender', 0.01240098717964853)\n",
      "('Married', 0.019520277034062408)\n",
      "('Area_Urban', 0.02014729913172134)\n",
      "('Area_Rural', 0.03743132091192695)\n",
      "('Dependents', 0.04115072640403719)\n",
      "('Education', 0.042277920099964755)\n",
      "('Loan_Amount_Term', 0.05135824519303976)\n",
      "('LoanAmount_log', 0.07886503052384204)\n",
      "('TotalIncome_log', 0.22725585127126136)\n",
      "('Credit_History', 0.4601498112218405)\n"
     ]
    }
   ],
   "source": [
    "# Print features in descending order of their weights\n",
    "labels = ['Gender', 'Married', 'Dependents', 'Education',\n",
    "          'Self_Employed', 'Loan_Amount_Term', 'Credit_History', 'Area_Rural', 'Area_Urban',\n",
    "          'LoanAmount_log','TotalIncome_log']\n",
    "for feature in sorted(zip(labels, model.feature_importances_), key = lambda x: x[1]):\n",
    "    print(feature)"
   ]
  },
  {
   "cell_type": "markdown",
   "metadata": {},
   "source": [
    "I will retrain the model with features has weights greater than 0.04. They are __LoanAmount_log, TotalIncome_log, Credit_History__ ."
   ]
  },
  {
   "cell_type": "code",
   "execution_count": 63,
   "metadata": {},
   "outputs": [
    {
     "name": "stdout",
     "output_type": "stream",
     "text": [
      "Accuracy : 83.876\n",
      "Cross-Validation Score : 82.252\n"
     ]
    }
   ],
   "source": [
    "model = RandomForestClassifier(n_estimators = 10, max_depth = 4, random_state = 1)\n",
    "train = df_mapped[['Credit_History', 'LoanAmount_log', 'TotalIncome_log']].values\n",
    "output = df_mapped['Loan_Status'].values # shape of Y = (n, ?)\n",
    "classification(model, train, output)"
   ]
  },
  {
   "cell_type": "markdown",
   "metadata": {},
   "source": [
    "We can see the Cross-Validation Score improved a bit and the testing accuracy decreases which is a good sign in this case, because that means the model's behaviour is generraly good. \n",
    "\n",
    "Some conclusion:\n",
    "- Training with only importance feature actually improves the model\n",
    "- Credit History is still a dominant variable\n",
    "- I should do some research about __Loan__ and find out if I can find  dominant factor(s) beyond Credit_History to do featuring engineering, however it is out of scope for this learning."
   ]
  },
  {
   "cell_type": "markdown",
   "metadata": {},
   "source": [
    "#### 4. Neural Network\n",
    "\n",
    "So far I have used Logistic Regression, Decision Tree, Random Forest and the results obtained were not so satisfied. Generaly speaking, their performance are on pair with each others. I will try Neural Network to see if there is any huge improvemence.\n",
    "\n",
    "I will use sklearn to form my neural network instead of creating from scratch using Tensorflow"
   ]
  },
  {
   "cell_type": "code",
   "execution_count": 64,
   "metadata": {},
   "outputs": [
    {
     "name": "stdout",
     "output_type": "stream",
     "text": [
      "Accuracy : 81.107\n",
      "Cross-Validation Score : 76.556\n"
     ]
    }
   ],
   "source": [
    "# with 1 layer - 22 neurons\n",
    "learning_rate = 1e-5\n",
    "model = MLPClassifier(solver='adam', activation='relu', alpha=learning_rate,\n",
    "                      hidden_layer_sizes=(22), max_iter=1000, random_state=1)\n",
    "train = df_mapped[['Gender', 'Married', 'Dependents', 'Education',\n",
    "                   'Self_Employed', 'Loan_Amount_Term', 'Credit_History', \n",
    "                   'Area_Rural', 'Area_Urban', 'LoanAmount_log', 'TotalIncome_log']].values\n",
    "output = df_mapped['Loan_Status'].values # shape of Y = (n, ?)\n",
    "classification(model, train, output)"
   ]
  },
  {
   "cell_type": "code",
   "execution_count": 65,
   "metadata": {},
   "outputs": [
    {
     "name": "stdout",
     "output_type": "stream",
     "text": [
      "Accuracy : 68.730\n",
      "Cross-Validation Score : 79.807\n"
     ]
    }
   ],
   "source": [
    "# with 2 layers - (22, 5) neurons\n",
    "learning_rate = 1e-5\n",
    "model = MLPClassifier(solver='adam', activation='relu', alpha=learning_rate,\n",
    "                      hidden_layer_sizes=(22, 5), max_iter=1000, random_state=1)\n",
    "train = df_mapped[['Gender', 'Married', 'Dependents', 'Education',\n",
    "                   'Self_Employed', 'Loan_Amount_Term', 'Credit_History', \n",
    "                   'Area_Rural', 'Area_Urban', 'LoanAmount_log', 'TotalIncome_log']].values\n",
    "output = df_mapped['Loan_Status'].values # shape of Y = (n, ?)\n",
    "classification(model, train, output)"
   ]
  },
  {
   "cell_type": "code",
   "execution_count": 66,
   "metadata": {},
   "outputs": [
    {
     "name": "stdout",
     "output_type": "stream",
     "text": [
      "Accuracy : 75.570\n",
      "Cross-Validation Score : 77.858\n"
     ]
    }
   ],
   "source": [
    "# with 2 layers - (22, 10, 5) neurons\n",
    "learning_rate = 1e-5\n",
    "model = MLPClassifier(solver='adam', activation='relu', alpha=learning_rate,\n",
    "                      hidden_layer_sizes=(25, 10, 5), max_iter=5000, random_state=1)\n",
    "train = df_mapped[['Gender', 'Married', 'Dependents', 'Education',\n",
    "                   'Self_Employed', 'Loan_Amount_Term', 'Credit_History', \n",
    "                   'Area_Rural', 'Area_Urban', 'LoanAmount_log', 'TotalIncome_log']].values\n",
    "output = df_mapped['Loan_Status'].values # shape of Y = (n, ?)\n",
    "classification(model, train, output)"
   ]
  },
  {
   "attachments": {},
   "cell_type": "markdown",
   "metadata": {},
   "source": [
    "It seems this approach very promising, but it more or less like a loterry game. Like with just 1 hidden layer of 22 neurons, the result is already pretty good. \n",
    "\n",
    "I may find a better solution if I play around with numbers a little longer. \n",
    "\n",
    "Conclusion:\n",
    "- Moving from Linear Regression to Random Forest and eventually to Neural Network. We lose the __linearity__ however the performance may become better. \n",
    "- It is very hard to explain what is actually happening inside the Neural Network... especially as deeper the network is as less intuative for understanding how it came up with the results. This is the __biggest limitation__ of Neural Network over the other two learning algorithms.\n",
    "- I prefer using Tensorflow to code everything scratch as I have more control on what I am doing such as I can play around with any parameters I like, tuning optimizer, choose different resolution on printing training accuracy. Scikit learn although is very convenient, it lacks the control I need.\n",
    "- One important thing I learn, featuring engineer is actually important, but it requires some knowledge on the field I am working on. "
   ]
  }
 ],
 "metadata": {
  "kernelspec": {
   "display_name": "Python [conda env:py36] *",
   "language": "python",
   "name": "conda-env-py36-py"
  },
  "language_info": {
   "codemirror_mode": {
    "name": "ipython",
    "version": 3
   },
   "file_extension": ".py",
   "mimetype": "text/x-python",
   "name": "python",
   "nbconvert_exporter": "python",
   "pygments_lexer": "ipython3",
   "version": "3.6.7"
  }
 },
 "nbformat": 4,
 "nbformat_minor": 2
}
